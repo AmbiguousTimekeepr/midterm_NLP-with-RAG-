{
  "cells": [
    {
      "cell_type": "code",
      "execution_count": 1,
      "metadata": {
        "colab": {
          "base_uri": "https://localhost:8080/"
        },
        "id": "caCAa3leqoyJ",
        "outputId": "6cc32ca3-4ea2-44cf-e2e3-12e5026d311f"
      },
      "outputs": [
        {
          "name": "stdout",
          "output_type": "stream",
          "text": [
            "Requirement already satisfied: underthesea in /usr/local/lib/python3.11/dist-packages (6.8.4)\n",
            "Requirement already satisfied: Click>=6.0 in /usr/local/lib/python3.11/dist-packages (from underthesea) (8.1.8)\n",
            "Requirement already satisfied: python-crfsuite>=0.9.6 in /usr/local/lib/python3.11/dist-packages (from underthesea) (0.9.11)\n",
            "Requirement already satisfied: nltk in /usr/local/lib/python3.11/dist-packages (from underthesea) (3.9.1)\n",
            "Requirement already satisfied: tqdm in /usr/local/lib/python3.11/dist-packages (from underthesea) (4.67.1)\n",
            "Requirement already satisfied: requests in /usr/local/lib/python3.11/dist-packages (from underthesea) (2.32.3)\n",
            "Requirement already satisfied: joblib in /usr/local/lib/python3.11/dist-packages (from underthesea) (1.4.2)\n",
            "Requirement already satisfied: scikit-learn in /usr/local/lib/python3.11/dist-packages (from underthesea) (1.6.1)\n",
            "Requirement already satisfied: PyYAML in /usr/local/lib/python3.11/dist-packages (from underthesea) (6.0.2)\n",
            "Requirement already satisfied: underthesea-core==1.0.4 in /usr/local/lib/python3.11/dist-packages (from underthesea) (1.0.4)\n",
            "Requirement already satisfied: regex>=2021.8.3 in /usr/local/lib/python3.11/dist-packages (from nltk->underthesea) (2024.11.6)\n",
            "Requirement already satisfied: charset-normalizer<4,>=2 in /usr/local/lib/python3.11/dist-packages (from requests->underthesea) (3.4.1)\n",
            "Requirement already satisfied: idna<4,>=2.5 in /usr/local/lib/python3.11/dist-packages (from requests->underthesea) (3.10)\n",
            "Requirement already satisfied: urllib3<3,>=1.21.1 in /usr/local/lib/python3.11/dist-packages (from requests->underthesea) (2.3.0)\n",
            "Requirement already satisfied: certifi>=2017.4.17 in /usr/local/lib/python3.11/dist-packages (from requests->underthesea) (2025.1.31)\n",
            "Requirement already satisfied: numpy>=1.19.5 in /usr/local/lib/python3.11/dist-packages (from scikit-learn->underthesea) (1.26.4)\n",
            "Requirement already satisfied: scipy>=1.6.0 in /usr/local/lib/python3.11/dist-packages (from scikit-learn->underthesea) (1.13.1)\n",
            "Requirement already satisfied: threadpoolctl>=3.1.0 in /usr/local/lib/python3.11/dist-packages (from scikit-learn->underthesea) (3.5.0)\n"
          ]
        }
      ],
      "source": [
        "!pip install underthesea"
      ]
    },
    {
      "cell_type": "code",
      "execution_count": 2,
      "metadata": {
        "colab": {
          "base_uri": "https://localhost:8080/"
        },
        "id": "NEcQKqfO2R5I",
        "outputId": "935fa8f6-bede-4d31-c846-44efb750207c"
      },
      "outputs": [
        {
          "name": "stdout",
          "output_type": "stream",
          "text": [
            "Requirement already satisfied: gensim in /usr/local/lib/python3.11/dist-packages (4.3.3)\n",
            "Requirement already satisfied: numpy<2.0,>=1.18.5 in /usr/local/lib/python3.11/dist-packages (from gensim) (1.26.4)\n",
            "Requirement already satisfied: scipy<1.14.0,>=1.7.0 in /usr/local/lib/python3.11/dist-packages (from gensim) (1.13.1)\n",
            "Requirement already satisfied: smart-open>=1.8.1 in /usr/local/lib/python3.11/dist-packages (from gensim) (7.1.0)\n",
            "Requirement already satisfied: wrapt in /usr/local/lib/python3.11/dist-packages (from smart-open>=1.8.1->gensim) (1.17.2)\n"
          ]
        }
      ],
      "source": [
        "!pip install gensim\n",
        "import pandas as pd\n",
        "import numpy as np\n",
        "import re\n",
        "import string\n",
        "import torch\n",
        "import gensim\n",
        "import seaborn as sns\n",
        "import matplotlib.pyplot as plt\n",
        "from underthesea import word_tokenize"
      ]
    },
    {
      "cell_type": "code",
      "execution_count": 3,
      "metadata": {
        "id": "M41wnmaG2i18"
      },
      "outputs": [],
      "source": [
        "from underthesea import word_tokenize\n",
        "from sklearn.model_selection import train_test_split\n",
        "from sklearn.feature_extraction.text import TfidfVectorizer, CountVectorizer\n",
        "from sklearn.naive_bayes import MultinomialNB\n",
        "from sklearn.linear_model import LogisticRegression\n",
        "from sklearn.tree import DecisionTreeClassifier\n",
        "from sklearn.metrics import accuracy_score, classification_report, confusion_matrix\n",
        "from gensim.models.doc2vec import Doc2Vec, TaggedDocument\n",
        "from tqdm import tqdm"
      ]
    },
    {
      "cell_type": "code",
      "execution_count": 4,
      "metadata": {
        "colab": {
          "base_uri": "https://localhost:8080/"
        },
        "id": "HnwsDOxH7jEa",
        "outputId": "2a60a0d5-4178-4df6-8b03-ad791509179b"
      },
      "outputs": [
        {
          "name": "stdout",
          "output_type": "stream",
          "text": [
            "Requirement already satisfied: transformers in /usr/local/lib/python3.11/dist-packages (4.48.3)\n",
            "Requirement already satisfied: torch in /usr/local/lib/python3.11/dist-packages (2.5.1+cu124)\n",
            "Requirement already satisfied: pandas in /usr/local/lib/python3.11/dist-packages (2.2.2)\n",
            "Requirement already satisfied: numpy in /usr/local/lib/python3.11/dist-packages (1.26.4)\n",
            "Requirement already satisfied: filelock in /usr/local/lib/python3.11/dist-packages (from transformers) (3.17.0)\n",
            "Requirement already satisfied: huggingface-hub<1.0,>=0.24.0 in /usr/local/lib/python3.11/dist-packages (from transformers) (0.28.1)\n",
            "Requirement already satisfied: packaging>=20.0 in /usr/local/lib/python3.11/dist-packages (from transformers) (24.2)\n",
            "Requirement already satisfied: pyyaml>=5.1 in /usr/local/lib/python3.11/dist-packages (from transformers) (6.0.2)\n",
            "Requirement already satisfied: regex!=2019.12.17 in /usr/local/lib/python3.11/dist-packages (from transformers) (2024.11.6)\n",
            "Requirement already satisfied: requests in /usr/local/lib/python3.11/dist-packages (from transformers) (2.32.3)\n",
            "Requirement already satisfied: tokenizers<0.22,>=0.21 in /usr/local/lib/python3.11/dist-packages (from transformers) (0.21.0)\n",
            "Requirement already satisfied: safetensors>=0.4.1 in /usr/local/lib/python3.11/dist-packages (from transformers) (0.5.3)\n",
            "Requirement already satisfied: tqdm>=4.27 in /usr/local/lib/python3.11/dist-packages (from transformers) (4.67.1)\n",
            "Requirement already satisfied: typing-extensions>=4.8.0 in /usr/local/lib/python3.11/dist-packages (from torch) (4.12.2)\n",
            "Requirement already satisfied: networkx in /usr/local/lib/python3.11/dist-packages (from torch) (3.4.2)\n",
            "Requirement already satisfied: jinja2 in /usr/local/lib/python3.11/dist-packages (from torch) (3.1.6)\n",
            "Requirement already satisfied: fsspec in /usr/local/lib/python3.11/dist-packages (from torch) (2024.10.0)\n",
            "Requirement already satisfied: nvidia-cuda-nvrtc-cu12==12.4.127 in /usr/local/lib/python3.11/dist-packages (from torch) (12.4.127)\n",
            "Requirement already satisfied: nvidia-cuda-runtime-cu12==12.4.127 in /usr/local/lib/python3.11/dist-packages (from torch) (12.4.127)\n",
            "Requirement already satisfied: nvidia-cuda-cupti-cu12==12.4.127 in /usr/local/lib/python3.11/dist-packages (from torch) (12.4.127)\n",
            "Requirement already satisfied: nvidia-cudnn-cu12==9.1.0.70 in /usr/local/lib/python3.11/dist-packages (from torch) (9.1.0.70)\n",
            "Requirement already satisfied: nvidia-cublas-cu12==12.4.5.8 in /usr/local/lib/python3.11/dist-packages (from torch) (12.4.5.8)\n",
            "Requirement already satisfied: nvidia-cufft-cu12==11.2.1.3 in /usr/local/lib/python3.11/dist-packages (from torch) (11.2.1.3)\n",
            "Requirement already satisfied: nvidia-curand-cu12==10.3.5.147 in /usr/local/lib/python3.11/dist-packages (from torch) (10.3.5.147)\n",
            "Requirement already satisfied: nvidia-cusolver-cu12==11.6.1.9 in /usr/local/lib/python3.11/dist-packages (from torch) (11.6.1.9)\n",
            "Requirement already satisfied: nvidia-cusparse-cu12==12.3.1.170 in /usr/local/lib/python3.11/dist-packages (from torch) (12.3.1.170)\n",
            "Requirement already satisfied: nvidia-nccl-cu12==2.21.5 in /usr/local/lib/python3.11/dist-packages (from torch) (2.21.5)\n",
            "Requirement already satisfied: nvidia-nvtx-cu12==12.4.127 in /usr/local/lib/python3.11/dist-packages (from torch) (12.4.127)\n",
            "Requirement already satisfied: nvidia-nvjitlink-cu12==12.4.127 in /usr/local/lib/python3.11/dist-packages (from torch) (12.4.127)\n",
            "Requirement already satisfied: triton==3.1.0 in /usr/local/lib/python3.11/dist-packages (from torch) (3.1.0)\n",
            "Requirement already satisfied: sympy==1.13.1 in /usr/local/lib/python3.11/dist-packages (from torch) (1.13.1)\n",
            "Requirement already satisfied: mpmath<1.4,>=1.1.0 in /usr/local/lib/python3.11/dist-packages (from sympy==1.13.1->torch) (1.3.0)\n",
            "Requirement already satisfied: python-dateutil>=2.8.2 in /usr/local/lib/python3.11/dist-packages (from pandas) (2.8.2)\n",
            "Requirement already satisfied: pytz>=2020.1 in /usr/local/lib/python3.11/dist-packages (from pandas) (2025.1)\n",
            "Requirement already satisfied: tzdata>=2022.7 in /usr/local/lib/python3.11/dist-packages (from pandas) (2025.1)\n",
            "Requirement already satisfied: six>=1.5 in /usr/local/lib/python3.11/dist-packages (from python-dateutil>=2.8.2->pandas) (1.17.0)\n",
            "Requirement already satisfied: MarkupSafe>=2.0 in /usr/local/lib/python3.11/dist-packages (from jinja2->torch) (3.0.2)\n",
            "Requirement already satisfied: charset-normalizer<4,>=2 in /usr/local/lib/python3.11/dist-packages (from requests->transformers) (3.4.1)\n",
            "Requirement already satisfied: idna<4,>=2.5 in /usr/local/lib/python3.11/dist-packages (from requests->transformers) (3.10)\n",
            "Requirement already satisfied: urllib3<3,>=1.21.1 in /usr/local/lib/python3.11/dist-packages (from requests->transformers) (2.3.0)\n",
            "Requirement already satisfied: certifi>=2017.4.17 in /usr/local/lib/python3.11/dist-packages (from requests->transformers) (2025.1.31)\n"
          ]
        }
      ],
      "source": [
        "!pip install transformers torch pandas numpy"
      ]
    },
    {
      "cell_type": "code",
      "execution_count": null,
      "metadata": {
        "colab": {
          "base_uri": "https://localhost:8080/"
        },
        "id": "BDWtgLZZ6XNX",
        "outputId": "194a0c76-7eb3-404a-e4ef-a849fcea0653"
      },
      "outputs": [
        {
          "name": "stdout",
          "output_type": "stream",
          "text": [
            "Dữ liệu mẫu:\n",
            "                                                text        label\n",
            "0  Nguyễn Thu Hoài tạo nên bất ngờ lớn với chuyền...  bóng chuyền\n",
            "1  Phil Mickelson giành chiến thắng với đánh bóng...         golf\n",
            "2  Trận đấu giữa Serena Williams diễn ra với sự k...       tennis\n",
            "3  Trận đấu giữa Warriors diễn ra với sự kiện sla...      bóng rổ\n",
            "4  Trận đấu giữa Stephen Curry diễn ra với sự kiệ...      bóng rổ\n"
          ]
        }
      ],
      "source": [
        "import numpy as np\n",
        "import pandas as pd\n",
        "\n",
        "# Danh sách môn thể thao\n",
        "labels = [\"bóng đá\", \"bóng rổ\", \"tennis\", \"đua xe\", \"võ thuật\", \"cầu lông\", \"bóng chuyền\", \"golf\", \"bơi lội\"]\n",
        "np.random.seed(42)\n",
        "\n",
        "# Danh sách từ khóa\n",
        "keywords = {\n",
        "    \"bóng đá\": [\"bàn thắng\", \"thẻ đỏ\", \"đá phạt\", \"VAR\", \"sút xa\", \"hậu vệ\", \"tiền đạo\", \"penalty\"],\n",
        "    \"bóng rổ\": [\"3 điểm\", \"slam dunk\", \"rebound\", \"trợ công\", \"đội hình\", \"hiệp 4\", \"NBA\"],\n",
        "    \"tennis\": [\"set point\", \"break\", \"Grand Slam\", \"tay vợt\", \"sân cỏ\", \"bóng nỉ\"],\n",
        "    \"đua xe\": [\"tốc độ\", \"pit stop\", \"F1\", \"tay đua\", \"lốp xe\", \"đường đua\"],\n",
        "    \"võ thuật\": [\"knockout\", \"quyền anh\", \"đấm móc\", \"đòn cước\", \"trận đấu\"],\n",
        "    \"cầu lông\": [\"cú smash\", \"lưới\", \"tay vợt\", \"phản công\", \"cầu rơi\"],\n",
        "    \"bóng chuyền\": [\"đập bóng\", \"chuyền hai\", \"bắt bước 1\", \"phòng thủ\", \"VNL\"],\n",
        "    \"golf\": [\"gậy driver\", \"putt\", \"lỗ golf\", \"green\", \"đánh bóng\"],\n",
        "    \"bơi lội\": [\"50m tự do\", \"kình ngư\", \"về đích\", \"hồ bơi\", \"bơi bướm\"]\n",
        "}\n",
        "\n",
        "# Danh sách đội tuyển & vận động viên\n",
        "teams_players = {\n",
        "    \"bóng đá\": [\"Messi\", \"Ronaldo\", \"Real Madrid\", \"Liverpool\"],\n",
        "    \"bóng rổ\": [\"LeBron James\", \"Stephen Curry\", \"Lakers\", \"Warriors\"],\n",
        "    \"tennis\": [\"Novak Djokovic\", \"Rafael Nadal\", \"Serena Williams\"],\n",
        "    \"đua xe\": [\"Lewis Hamilton\", \"Max Verstappen\", \"Red Bull Racing\"],\n",
        "    \"võ thuật\": [\"Conor McGregor\", \"Khabib Nurmagomedov\", \"Mike Tyson\"],\n",
        "    \"cầu lông\": [\"Kento Momota\", \"Lee Chong Wei\", \"Axelsen\"],\n",
        "    \"bóng chuyền\": [\"Nguyễn Thu Hoài\", \"Zhu Ting\", \"Kim Yeon-koung\"],\n",
        "    \"golf\": [\"Tiger Woods\", \"Phil Mickelson\", \"Rory McIlroy\"],\n",
        "    \"bơi lội\": [\"Michael Phelps\", \"Katie Ledecky\", \"Caeleb Dressel\"]\n",
        "}\n",
        "\n",
        "# Hàm tạo câu ngắn (10-20 từ)\n",
        "def generate_short_sentence(label, words, player):\n",
        "    templates = [\n",
        "        f\"{player} đã thể hiện xuất sắc với {', '.join(words)}.\",\n",
        "        f\"Trận đấu giữa {player} diễn ra với sự kiện {', '.join(words)}.\",\n",
        "        f\"{player} giành chiến thắng với {', '.join(words)}.\",\n",
        "        f\"Sự kiện thể thao vừa qua chứng kiến {player} đạt thành tích cao với {', '.join(words)}.\",\n",
        "        f\"{player} tạo nên bất ngờ lớn với {', '.join(words)}.\"\n",
        "    ]\n",
        "    return np.random.choice(templates)\n",
        "\n",
        "# Hàm tạo đoạn văn bản dài (khoảng 70 từ)\n",
        "def generate_long_text(label, player):\n",
        "    words = list(np.random.choice(keywords[label], size=np.random.randint(2, 4), replace=False))\n",
        "    other_label = np.random.choice([l for l in labels if l != label])\n",
        "    other_words = list(np.random.choice(keywords[other_label], size=np.random.randint(1, 3), replace=False))\n",
        "\n",
        "    # Tạo các câu ngắn\n",
        "    sentences = []\n",
        "    while len(\" \".join(sentences).split()) < 70:  # Đảm bảo tổng số từ khoảng 70\n",
        "        sentence = generate_short_sentence(label, words + other_words, player)\n",
        "        sentences.append(sentence)\n",
        "\n",
        "    # Kết hợp các câu thành đoạn văn bản\n",
        "    return \" \".join(sentences)\n",
        "\n",
        "# Tạo dataset lớn hơn\n",
        "corpus = []\n",
        "num_samples = 50000  # Số lượng mẫu lớn hơn\n",
        "for _ in range(num_samples):\n",
        "    label = np.random.choice(labels)\n",
        "    player = np.random.choice(teams_players[label])  # Chọn ngẫu nhiên tên VĐV hoặc đội tuyển\n",
        "\n",
        "    # Tạo đoạn văn bản dài\n",
        "    text = generate_long_text(label, player)\n",
        "    corpus.append((text, label))\n",
        "\n",
        "# Chuyển thành DataFrame\n",
        "df = pd.DataFrame(corpus, columns=[\"text\", \"label\"])\n",
        "\n",
        "# Hiển thị một số dòng của tập dữ liệu\n",
        "print(\"Dữ liệu mẫu:\")\n",
        "print(df.head())\n",
        "\n",
        "# Lưu vào file CSV\n",
        "df.to_csv(\"generated_soccer_questions.csv\", index=False)"
      ]
    },
    {
      "cell_type": "code",
      "execution_count": 20,
      "metadata": {
        "id": "QnjfI5yP6eMP"
      },
      "outputs": [],
      "source": [
        "# Tiền xử lý văn bản\n",
        "np.random.shuffle(df.values)\n",
        "df[\"clean_text\"] = df[\"text\"].str.lower().str.replace(r\"[{}]\".format(string.punctuation), \"\", regex=True).str.replace(r\"\\d+\", \"\", regex=True)\n",
        "df[\"clean_text\"] = df[\"clean_text\"].apply(lambda x: word_tokenize(x, format=\"text\"))"
      ]
    },
    {
      "cell_type": "code",
      "execution_count": 21,
      "metadata": {
        "id": "iTj2DIW16gjF"
      },
      "outputs": [],
      "source": [
        "# Biểu diễn bằng TF-IDF để giảm overfitting\n",
        "vectorizer = TfidfVectorizer(max_features=100)\n",
        "X_bow = vectorizer.fit_transform(df[\"clean_text\"])\n",
        "y = df[\"label\"].astype(str)\n",
        "\n",
        "X_train, X_test, y_train, y_test = train_test_split(X_bow, y, test_size=0.3, random_state=42, stratify=y)"
      ]
    },
    {
      "cell_type": "code",
      "execution_count": 15,
      "metadata": {
        "colab": {
          "base_uri": "https://localhost:8080/"
        },
        "id": "IMHto14y6omV",
        "outputId": "7bd3772a-fdfa-4bb3-aa6c-77492b67ac81"
      },
      "outputs": [
        {
          "name": "stdout",
          "output_type": "stream",
          "text": [
            "Naive Bayes Accuracy: 0.9088\n",
            "              precision    recall  f1-score   support\n",
            "\n",
            " bóng chuyền       0.94      0.89      0.91      1656\n",
            "     bóng rổ       0.92      0.67      0.78      1654\n",
            "     bóng đá       0.88      0.88      0.88      1669\n",
            "     bơi lội       0.88      0.85      0.87      1665\n",
            "    cầu lông       0.92      1.00      0.95      1723\n",
            "        golf       0.90      0.96      0.93      1654\n",
            "      tennis       0.90      0.95      0.93      1647\n",
            "    võ thuật       0.93      0.99      0.96      1678\n",
            "      đua xe       0.90      0.99      0.94      1654\n",
            "\n",
            "    accuracy                           0.91     15000\n",
            "   macro avg       0.91      0.91      0.91     15000\n",
            "weighted avg       0.91      0.91      0.91     15000\n",
            "\n"
          ]
        }
      ],
      "source": [
        "# Huấn luyện Naive Bayes với Laplace smoothing\n",
        "nb_model = MultinomialNB(alpha=0.1)\n",
        "nb_model.fit(X_train, y_train)\n",
        "y_pred_nb = nb_model.predict(X_test)\n",
        "nb_acc = accuracy_score(y_test, y_pred_nb)\n",
        "print(\"Naive Bayes Accuracy:\", nb_acc)\n",
        "print(classification_report(y_test, y_pred_nb))"
      ]
    },
    {
      "cell_type": "code",
      "execution_count": 14,
      "metadata": {
        "colab": {
          "base_uri": "https://localhost:8080/"
        },
        "id": "1hzx8gffBIJ3",
        "outputId": "ab245e5b-292b-4e77-be6c-20ee4b4a6590"
      },
      "outputs": [
        {
          "name": "stdout",
          "output_type": "stream",
          "text": [
            "Logistic Regression Accuracy: 0.9338666666666666\n",
            "              precision    recall  f1-score   support\n",
            "\n",
            " bóng chuyền       0.95      0.91      0.93      1656\n",
            "     bóng rổ       0.89      0.79      0.84      1654\n",
            "     bóng đá       0.90      0.92      0.91      1669\n",
            "     bơi lội       0.88      0.93      0.91      1665\n",
            "    cầu lông       0.97      0.98      0.98      1723\n",
            "        golf       0.94      0.96      0.95      1654\n",
            "      tennis       0.95      0.96      0.95      1647\n",
            "    võ thuật       0.96      0.98      0.97      1678\n",
            "      đua xe       0.96      0.98      0.97      1654\n",
            "\n",
            "    accuracy                           0.93     15000\n",
            "   macro avg       0.93      0.93      0.93     15000\n",
            "weighted avg       0.93      0.93      0.93     15000\n",
            "\n"
          ]
        }
      ],
      "source": [
        "# Huấn luyện Logistic Regression với regularization cao hơn\n",
        "lr_model = LogisticRegression(max_iter=1000, C=0.1)\n",
        "lr_model.fit(X_train, y_train)\n",
        "y_pred_lr = lr_model.predict(X_test)\n",
        "lr_acc = accuracy_score(y_test, y_pred_lr)\n",
        "print(\"Logistic Regression Accuracy:\", lr_acc)\n",
        "print(classification_report(y_test, y_pred_lr))"
      ]
    },
    {
      "cell_type": "code",
      "execution_count": 16,
      "metadata": {
        "colab": {
          "base_uri": "https://localhost:8080/"
        },
        "id": "99UOh0dW6rOc",
        "outputId": "fb0a5c31-afa7-4cfa-d8b9-2aca27679679"
      },
      "outputs": [
        {
          "name": "stdout",
          "output_type": "stream",
          "text": [
            "Decision Tree Accuracy: 0.33253333333333335\n",
            "              precision    recall  f1-score   support\n",
            "\n",
            " bóng chuyền       0.00      0.00      0.00      1656\n",
            "     bóng rổ       0.00      0.00      0.00      1654\n",
            "     bóng đá       0.15      0.96      0.25      1669\n",
            "     bơi lội       1.00      0.03      0.06      1665\n",
            "    cầu lông       1.00      0.95      0.97      1723\n",
            "        golf       0.11      0.04      0.06      1654\n",
            "      tennis       0.00      0.00      0.00      1647\n",
            "    võ thuật       1.00      0.31      0.47      1678\n",
            "      đua xe       1.00      0.67      0.80      1654\n",
            "\n",
            "    accuracy                           0.33     15000\n",
            "   macro avg       0.47      0.33      0.29     15000\n",
            "weighted avg       0.48      0.33      0.29     15000\n",
            "\n"
          ]
        },
        {
          "name": "stderr",
          "output_type": "stream",
          "text": [
            "/usr/local/lib/python3.11/dist-packages/sklearn/metrics/_classification.py:1565: UndefinedMetricWarning: Precision is ill-defined and being set to 0.0 in labels with no predicted samples. Use `zero_division` parameter to control this behavior.\n",
            "  _warn_prf(average, modifier, f\"{metric.capitalize()} is\", len(result))\n",
            "/usr/local/lib/python3.11/dist-packages/sklearn/metrics/_classification.py:1565: UndefinedMetricWarning: Precision is ill-defined and being set to 0.0 in labels with no predicted samples. Use `zero_division` parameter to control this behavior.\n",
            "  _warn_prf(average, modifier, f\"{metric.capitalize()} is\", len(result))\n",
            "/usr/local/lib/python3.11/dist-packages/sklearn/metrics/_classification.py:1565: UndefinedMetricWarning: Precision is ill-defined and being set to 0.0 in labels with no predicted samples. Use `zero_division` parameter to control this behavior.\n",
            "  _warn_prf(average, modifier, f\"{metric.capitalize()} is\", len(result))\n"
          ]
        }
      ],
      "source": [
        "# Huấn luyện Decision Tree với độ phức tạp thấp hơn\n",
        "dt_model = DecisionTreeClassifier(max_depth=5, min_samples_split=20, random_state=42)\n",
        "dt_model.fit(X_train, y_train)\n",
        "y_pred_dt = dt_model.predict(X_test)\n",
        "dt_acc = accuracy_score(y_test, y_pred_dt)\n",
        "print(\"Decision Tree Accuracy:\", dt_acc)\n",
        "print(classification_report(y_test, y_pred_dt))"
      ]
    },
    {
      "cell_type": "markdown",
      "metadata": {
        "id": "OeH2wIDPv4kC"
      },
      "source": [
        "##  Không sử dụng pre-trained model"
      ]
    },
    {
      "cell_type": "code",
      "execution_count": 22,
      "metadata": {
        "colab": {
          "base_uri": "https://localhost:8080/"
        },
        "id": "JZnsAzWK6t5h",
        "outputId": "01b863f1-7c55-42ab-9a8f-81b95d67b80c"
      },
      "outputs": [
        {
          "name": "stdout",
          "output_type": "stream",
          "text": [
            "Logistic Regression (Doc2Vec - No Pretrain) Accuracy: 0.7882666666666667\n",
            "              precision    recall  f1-score   support\n",
            "\n",
            " bóng chuyền       0.81      0.75      0.78      1656\n",
            "     bóng rổ       0.84      0.83      0.83      1654\n",
            "     bóng đá       0.88      0.85      0.86      1669\n",
            "     bơi lội       0.79      0.79      0.79      1665\n",
            "    cầu lông       0.74      0.76      0.75      1723\n",
            "        golf       0.78      0.81      0.79      1654\n",
            "      tennis       0.76      0.76      0.76      1647\n",
            "    võ thuật       0.78      0.82      0.80      1678\n",
            "      đua xe       0.71      0.73      0.72      1654\n",
            "\n",
            "    accuracy                           0.79     15000\n",
            "   macro avg       0.79      0.79      0.79     15000\n",
            "weighted avg       0.79      0.79      0.79     15000\n",
            "\n"
          ]
        }
      ],
      "source": [
        "from gensim.models import Doc2Vec\n",
        "from gensim.models.doc2vec import TaggedDocument\n",
        "import numpy as np\n",
        "from sklearn.model_selection import train_test_split\n",
        "from sklearn.linear_model import LogisticRegression\n",
        "from sklearn.metrics import accuracy_score, classification_report\n",
        "\n",
        "# Chuẩn bị dữ liệu cho Doc2Vec\n",
        "tagged_data = [TaggedDocument(words=text.split(), tags=[str(i)]) for i, text in enumerate(df[\"clean_text\"])]\n",
        "\n",
        "# Tạo và huấn luyện mô hình Doc2Vec từ đầu\n",
        "d2v_model = Doc2Vec(vector_size=100, window=5, min_count=2, workers=4, epochs=30)\n",
        "d2v_model.build_vocab(tagged_data)\n",
        "d2v_model.train(tagged_data, total_examples=d2v_model.corpus_count, epochs=d2v_model.epochs)\n",
        "\n",
        "# Biểu diễn văn bản\n",
        "X_d2v = np.array([d2v_model.infer_vector(text.split()) for text in df[\"clean_text\"]])\n",
        "\n",
        "# Chia tập train/test\n",
        "X_train_d2v, X_test_d2v, y_train_d2v, y_test_d2v = train_test_split(X_d2v, y, test_size=0.3, random_state=42, stratify=y)\n",
        "\n",
        "# Huấn luyện Logistic Regression\n",
        "lr_d2v = LogisticRegression(max_iter=1000, C=0.5)\n",
        "lr_d2v.fit(X_train_d2v, y_train_d2v)\n",
        "\n",
        "# Dự đoán và đánh giá\n",
        "y_pred_d2v = lr_d2v.predict(X_test_d2v)\n",
        "d2v_acc = accuracy_score(y_test_d2v, y_pred_d2v)\n",
        "print(\"Logistic Regression (Doc2Vec - No Pretrain) Accuracy:\", d2v_acc)\n",
        "print(classification_report(y_test_d2v, y_pred_d2v))\n"
      ]
    },
    {
      "cell_type": "markdown",
      "metadata": {
        "id": "RObVUgQDv96c"
      },
      "source": [
        "## Sử dụng pre-trained model"
      ]
    },
    {
      "cell_type": "code",
      "execution_count": null,
      "metadata": {
        "colab": {
          "base_uri": "https://localhost:8080/"
        },
        "id": "nU1rlVeF1IEP",
        "outputId": "cb35b0ea-fc23-4c8b-e0c5-e5ce315caf77"
      },
      "outputs": [
        {
          "name": "stdout",
          "output_type": "stream",
          "text": [
            "--2025-03-06 09:48:18--  https://dl.fbaipublicfiles.com/fasttext/vectors-crawl/cc.vi.300.vec.gz\n",
            "Resolving dl.fbaipublicfiles.com (dl.fbaipublicfiles.com)... 3.163.189.108, 3.163.189.14, 3.163.189.51, ...\n",
            "Connecting to dl.fbaipublicfiles.com (dl.fbaipublicfiles.com)|3.163.189.108|:443... connected.\n",
            "HTTP request sent, awaiting response... 200 OK\n",
            "Length: 1235219084 (1.1G) [binary/octet-stream]\n",
            "Saving to: ‘cc.vi.300.vec.gz’\n",
            "\n",
            "cc.vi.300.vec.gz    100%[===================>]   1.15G  52.5MB/s    in 25s     \n",
            "\n",
            "2025-03-06 09:48:44 (46.9 MB/s) - ‘cc.vi.300.vec.gz’ saved [1235219084/1235219084]\n",
            "\n"
          ]
        }
      ],
      "source": [
        "!wget https://dl.fbaipublicfiles.com/fasttext/vectors-crawl/cc.vi.300.vec.gz\n",
        "!gunzip cc.vi.300.vec.gz\n"
      ]
    },
    {
      "cell_type": "code",
      "execution_count": null,
      "metadata": {
        "colab": {
          "base_uri": "https://localhost:8080/"
        },
        "id": "GqiNTlVIwFGJ",
        "outputId": "79dbba97-ec0b-40c7-c35d-19d3693b84d3"
      },
      "outputs": [
        {
          "name": "stdout",
          "output_type": "stream",
          "text": [
            "Logistic Regression (Doc2Vec - Pretrained) Accuracy: 0.5424\n",
            "              precision    recall  f1-score   support\n",
            "\n",
            " bóng chuyền       0.60      0.52      0.56      1625\n",
            "     bóng rổ       0.70      0.55      0.62      1659\n",
            "     bóng đá       0.91      0.72      0.80      1672\n",
            "     bơi lội       0.34      0.40      0.36      1655\n",
            "    cầu lông       0.63      0.67      0.65      1691\n",
            "        golf       0.54      0.54      0.54      1670\n",
            "      tennis       0.45      0.43      0.44      1682\n",
            "    võ thuật       0.49      0.58      0.53      1677\n",
            "      đua xe       0.40      0.46      0.43      1669\n",
            "\n",
            "    accuracy                           0.54     15000\n",
            "   macro avg       0.56      0.54      0.55     15000\n",
            "weighted avg       0.56      0.54      0.55     15000\n",
            "\n"
          ]
        }
      ],
      "source": [
        "from gensim.models import KeyedVectors\n",
        "\n",
        "# Load mô hình Pre-trained (FastText hoặc Word2Vec)\n",
        "pretrained_path = \"cc.vi.300.vec\"  # Đường dẫn file tải về\n",
        "pretrained_wv = KeyedVectors.load_word2vec_format(pretrained_path)\n",
        "\n",
        "# Tạo Doc2Vec model\n",
        "d2v_model_pretrained = Doc2Vec(vector_size=300, window=5, min_count=2, workers=4, epochs=30)\n",
        "\n",
        "# Xây dựng từ vựng từ dữ liệu hiện tại\n",
        "d2v_model_pretrained.build_vocab(tagged_data)\n",
        "\n",
        "# Copy embeddings từ Pre-trained vào Doc2Vec\n",
        "for word in pretrained_wv.index_to_key:\n",
        "    if word in d2v_model_pretrained.wv:\n",
        "        d2v_model_pretrained.wv[word] = pretrained_wv[word]\n",
        "\n",
        "# Huấn luyện mô hình Doc2Vec với Pre-trained Embeddings\n",
        "d2v_model_pretrained.train(tagged_data, total_examples=d2v_model_pretrained.corpus_count, epochs=d2v_model_pretrained.epochs)\n",
        "\n",
        "# Biểu diễn văn bản\n",
        "X_d2v_pretrained = np.array([d2v_model_pretrained.infer_vector(text.split()) for text in df[\"clean_text\"]])\n",
        "\n",
        "# Chia tập train/test\n",
        "X_train_d2v_pre, X_test_d2v_pre, y_train_d2v_pre, y_test_d2v_pre = train_test_split(\n",
        "    X_d2v_pretrained, y, test_size=0.3, random_state=42, stratify=y\n",
        ")\n",
        "\n",
        "# Huấn luyện Logistic Regression\n",
        "lr_d2v_pre = LogisticRegression(max_iter=1000, C=0.5)\n",
        "lr_d2v_pre.fit(X_train_d2v_pre, y_train_d2v_pre)\n",
        "\n",
        "# Dự đoán và đánh giá\n",
        "y_pred_d2v_pre = lr_d2v_pre.predict(X_test_d2v_pre)\n",
        "d2v_pre_acc = accuracy_score(y_test_d2v_pre, y_pred_d2v_pre)\n",
        "print(\"Logistic Regression (Doc2Vec - Pretrained) Accuracy:\", d2v_pre_acc)\n",
        "print(classification_report(y_test_d2v_pre, y_pred_d2v_pre))\n"
      ]
    },
    {
      "cell_type": "markdown",
      "metadata": {
        "id": "2KBJFW04tSi_"
      },
      "source": [
        "## Pretrained bằng BERT"
      ]
    },
    {
      "cell_type": "code",
      "execution_count": null,
      "metadata": {
        "colab": {
          "base_uri": "https://localhost:8080/"
        },
        "id": "HbQ5uLX5rY3I",
        "outputId": "89766d59-adc9-4ef9-f17d-6d25195df884"
      },
      "outputs": [
        {
          "name": "stdout",
          "output_type": "stream",
          "text": [
            "Logistic Regression (BERT Feature Extraction) Accuracy: 0.9966666666666667\n",
            "              precision    recall  f1-score   support\n",
            "\n",
            " bóng chuyền       1.00      1.00      1.00      1625\n",
            "     bóng rổ       1.00      0.99      0.99      1659\n",
            "     bóng đá       1.00      1.00      1.00      1672\n",
            "     bơi lội       0.99      1.00      1.00      1655\n",
            "    cầu lông       1.00      1.00      1.00      1691\n",
            "        golf       1.00      1.00      1.00      1670\n",
            "      tennis       1.00      1.00      1.00      1682\n",
            "    võ thuật       1.00      1.00      1.00      1677\n",
            "      đua xe       1.00      1.00      1.00      1669\n",
            "\n",
            "    accuracy                           1.00     15000\n",
            "   macro avg       1.00      1.00      1.00     15000\n",
            "weighted avg       1.00      1.00      1.00     15000\n",
            "\n"
          ]
        }
      ],
      "source": [
        "import torch\n",
        "import numpy as np\n",
        "from transformers import AutoModel, AutoTokenizer\n",
        "from sklearn.model_selection import train_test_split\n",
        "from sklearn.linear_model import LogisticRegression\n",
        "from sklearn.metrics import accuracy_score, classification_report\n",
        "\n",
        "# Chọn mô hình: 'bert-base-multilingual-cased' hoặc 'vinai/phobert-base'\n",
        "bert_model_name = 'bert-base-multilingual-cased'  # Hoặc 'vinai/phobert-base' cho tiếng Việt\n",
        "\n",
        "tokenizer = AutoTokenizer.from_pretrained(bert_model_name)\n",
        "model = AutoModel.from_pretrained(bert_model_name)\n",
        "\n",
        "def get_bert_embeddings(texts, tokenizer, model, batch_size=32):\n",
        "    embeddings = []\n",
        "    model = model.to('cuda' if torch.cuda.is_available() else 'cpu')  # Sử dụng GPU nếu có\n",
        "    model.eval()\n",
        "\n",
        "    for i in range(0, len(texts), batch_size):\n",
        "        batch_texts = texts[i:i + batch_size]\n",
        "        inputs = tokenizer(batch_texts, return_tensors='pt', padding=True, truncation=True, max_length=64).to(model.device)\n",
        "        with torch.no_grad():\n",
        "            outputs = model(**inputs)\n",
        "        cls_embedding = outputs.last_hidden_state[:, 0, :].cpu().numpy()\n",
        "        embeddings.append(cls_embedding)\n",
        "\n",
        "    return np.vstack(embeddings)\n",
        "\n",
        "# Biểu diễn văn bản bằng BERT\n",
        "X_bert = get_bert_embeddings(df['clean_text'].tolist(), tokenizer, model)\n",
        "\n",
        "# Chia tập train/test\n",
        "X_train, X_test, y_train, y_test = train_test_split(X_bert, df['label'], test_size=0.3, random_state=42, stratify=df['label'])\n",
        "\n",
        "# Huấn luyện Logistic Regression\n",
        "lr_model = LogisticRegression(max_iter=1000, C=0.5, n_jobs=-1)\n",
        "lr_model.fit(X_train, y_train)\n",
        "\n",
        "# Dự đoán và đánh giá\n",
        "y_pred = lr_model.predict(X_test)\n",
        "acc = accuracy_score(y_test, y_pred)\n",
        "print(\"Logistic Regression (BERT Feature Extraction) Accuracy:\", acc)\n",
        "print(classification_report(y_test, y_pred))"
      ]
    },
    {
      "cell_type": "code",
      "execution_count": null,
      "metadata": {
        "colab": {
          "base_uri": "https://localhost:8080/",
          "height": 652
        },
        "id": "3UjBpht065CI",
        "outputId": "3f30200b-dbd8-4629-a414-dd664b353fd2"
      },
      "outputs": [
        {
          "name": "stderr",
          "output_type": "stream",
          "text": [
            "<ipython-input-42-b63d5bad22a4>:6: FutureWarning: \n",
            "\n",
            "Passing `palette` without assigning `hue` is deprecated and will be removed in v0.14.0. Assign the `x` variable to `hue` and set `legend=False` for the same effect.\n",
            "\n",
            "  sns.barplot(x=models, y=accuracies, palette=\"coolwarm\")\n"
          ]
        },
        {
          "data": {
            "image/png": "[encoded data removed]",
            "text/plain": [
              "<Figure size 800x500 with 1 Axes>"
            ]
          },
          "metadata": {},
          "output_type": "display_data"
        }
      ],
      "source": [
        "# So sánh mô hình\n",
        "models = [\"Naive Bayes\", \"Logistic Regression\", \"Decision Tree\", \"Logistic Regression (Doc2Vec)\"]\n",
        "accuracies = [nb_acc, lr_acc, dt_acc, d2v_acc]\n",
        "\n",
        "plt.figure(figsize=(8,5))\n",
        "sns.barplot(x=models, y=accuracies, palette=\"coolwarm\")\n",
        "plt.ylim(0, 1)\n",
        "plt.ylabel(\"Accuracy\")\n",
        "plt.xlabel(\"Model\")\n",
        "plt.title(\"So sánh độ chính xác của các mô hình\")\n",
        "plt.xticks(rotation=15)\n",
        "plt.show()\n"
      ]
    },
    {
      "cell_type": "code",
      "execution_count": null,
      "metadata": {
        "colab": {
          "base_uri": "https://localhost:8080/"
        },
        "id": "10Lt1pW2spUT",
        "outputId": "f5f739d5-f14c-4bfa-9193-040d3e60c448"
      },
      "outputs": [
        {
          "name": "stdout",
          "output_type": "stream",
          "text": [
            "Naive Bayes Accuracy: 0.695\n",
            "              precision    recall  f1-score   support\n",
            "\n",
            " bóng chuyền       0.77      0.65      0.70      1625\n",
            "     bóng rổ       0.46      0.23      0.31      1659\n",
            "     bóng đá       0.41      0.61      0.49      1672\n",
            "     bơi lội       0.77      0.82      0.80      1655\n",
            "    cầu lông       0.81      0.88      0.84      1691\n",
            "        golf       0.78      0.98      0.87      1670\n",
            "      tennis       0.63      0.40      0.48      1682\n",
            "    võ thuật       0.79      0.89      0.83      1677\n",
            "      đua xe       0.81      0.81      0.81      1669\n",
            "\n",
            "    accuracy                           0.69     15000\n",
            "   macro avg       0.69      0.69      0.68     15000\n",
            "weighted avg       0.69      0.69      0.68     15000\n",
            "\n",
            "\n",
            "Sample Predictions:\n",
            "Text 1: Actual: bơi lội, Predicted: bơi lội\n",
            "Text 2: Actual: cầu lông, Predicted: cầu lông\n",
            "Text 3: Actual: bóng đá, Predicted: võ thuật\n",
            "Text 4: Actual: bóng chuyền, Predicted: bóng chuyền\n",
            "Text 5: Actual: bóng rổ, Predicted: bóng rổ\n",
            "Text 6: Actual: golf, Predicted: golf\n",
            "Text 7: Actual: bóng chuyền, Predicted: bóng chuyền\n",
            "Text 8: Actual: bóng đá, Predicted: bóng đá\n",
            "Text 9: Actual: đua xe, Predicted: đua xe\n",
            "Text 10: Actual: bơi lội, Predicted: bơi lội\n",
            "Text 11: Actual: bóng đá, Predicted: bóng đá\n",
            "Text 12: Actual: đua xe, Predicted: đua xe\n",
            "Text 13: Actual: bóng chuyền, Predicted: bóng đá\n",
            "Text 14: Actual: bóng rổ, Predicted: bóng rổ\n",
            "Text 15: Actual: bơi lội, Predicted: đua xe\n",
            "Text 16: Actual: tennis, Predicted: golf\n",
            "Text 17: Actual: golf, Predicted: golf\n",
            "Text 18: Actual: tennis, Predicted: đua xe\n",
            "Text 19: Actual: golf, Predicted: golf\n",
            "Text 20: Actual: cầu lông, Predicted: cầu lông\n"
          ]
        }
      ],
      "source": [
        "# Huấn luyện Naive Bayes với Laplace smoothing\n",
        "nb_model = MultinomialNB(alpha=0.1)\n",
        "nb_model.fit(X_train, y_train)\n",
        "\n",
        "# Dự đoán trên tập test\n",
        "y_pred_nb = nb_model.predict(X_test)\n",
        "\n",
        "# Độ chính xác\n",
        "nb_acc = accuracy_score(y_test, y_pred_nb)\n",
        "print(\"Naive Bayes Accuracy:\", nb_acc)\n",
        "\n",
        "# Báo cáo chi tiết\n",
        "print(classification_report(y_test, y_pred_nb))\n",
        "\n",
        "# In một số kết quả dự đoán\n",
        "print(\"\\nSample Predictions:\")\n",
        "for i in range(20):  # Hiển thị 10 kết quả đầu tiên\n",
        "    print(f\"Text {i+1}: Actual: {y_test.iloc[i]}, Predicted: {y_pred_nb[i]}\")\n"
      ]
    },
    {
      "cell_type": "markdown",
      "metadata": {
        "id": "SUKPCy1FxETJ"
      },
      "source": [
        "# Pretrained BERT/PhoBERT"
      ]
    },
    {
      "cell_type": "code",
      "execution_count": null,
      "metadata": {
        "id": "HUBEmgUtxKSA"
      },
      "outputs": [],
      "source": [
        "import torch\n",
        "import numpy as np\n",
        "from transformers import AutoModel, AutoTokenizer\n",
        "from sklearn.linear_model import LogisticRegression\n",
        "from sklearn.model_selection import train_test_split\n",
        "from sklearn.metrics import accuracy_score, classification_report\n",
        "\n",
        "def get_bert_embeddings(texts, model, tokenizer, max_length=256):\n",
        "    inputs = tokenizer(texts, padding=True, truncation=True, max_length=max_length, return_tensors=\"pt\")\n",
        "    with torch.no_grad():\n",
        "        outputs = model(**inputs)\n",
        "    return outputs.last_hidden_state[:, 0, :].numpy()  # Lấy embedding của [CLS] token\n",
        "\n",
        "# Load BERT và PhoBERT\n",
        "device = torch.device(\"cuda\" if torch.cuda.is_available() else \"cpu\")\n",
        "bert_model = AutoModel.from_pretrained(\"bert-base-multilingual-cased\").to(device)\n",
        "bert_tokenizer = AutoTokenizer.from_pretrained(\"bert-base-multilingual-cased\")\n",
        "phobert_model = AutoModel.from_pretrained(\"vinai/phobert-base\").to(device)\n",
        "phobert_tokenizer = AutoTokenizer.from_pretrained(\"vinai/phobert-base\")\n",
        "\n",
        "# Chia tập train/test\n",
        "X_train, X_test, y_train, y_test = train_test_split(df[\"clean_text\"], df[\"label\"], test_size=0.3, random_state=42, stratify=df[\"label\"])\n",
        "\n",
        "# Feature Extraction từ BERT và PhoBERT\n",
        "X_train_bert = get_bert_embeddings(X_train.tolist(), bert_model, bert_tokenizer)\n",
        "X_test_bert = get_bert_embeddings(X_test.tolist(), bert_model, bert_tokenizer)\n",
        "X_train_phobert = get_bert_embeddings(X_train.tolist(), phobert_model, phobert_tokenizer)\n",
        "X_test_phobert = get_bert_embeddings(X_test.tolist(), phobert_model, phobert_tokenizer)\n",
        "\n",
        "# Huấn luyện Logistic Regression\n",
        "lr_bert = LogisticRegression(max_iter=1000, C=0.5)\n",
        "lr_bert.fit(X_train_bert, y_train)\n",
        "y_pred_bert = lr_bert.predict(X_test_bert)\n",
        "print(\"BERT Accuracy:\", accuracy_score(y_test, y_pred_bert))\n",
        "print(classification_report(y_test, y_pred_bert))\n",
        "\n",
        "lr_phobert = LogisticRegression(max_iter=1000, C=0.5)\n",
        "lr_phobert.fit(X_train_phobert, y_train)\n",
        "y_pred_phobert = lr_phobert.predict(X_test_phobert)\n",
        "print(\"PhoBERT Accuracy:\", accuracy_score(y_test, y_pred_phobert))\n",
        "print(classification_report(y_test, y_pred_phobert))\n"
      ]
    }
  ],
  "metadata": {
    "accelerator": "GPU",
    "colab": {
      "gpuType": "T4",
      "provenance": []
    },
    "kernelspec": {
      "display_name": "Python 3",
      "name": "python3"
    },
    "language_info": {
      "name": "python"
    }
  },
  "nbformat": 4,
  "nbformat_minor": 0
}
