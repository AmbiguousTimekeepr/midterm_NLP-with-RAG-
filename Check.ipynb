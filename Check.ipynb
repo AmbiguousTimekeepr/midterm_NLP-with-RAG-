{
 "cells": [
  {
   "cell_type": "markdown",
   "metadata": {
    "id": "L_9r1h-E6wPg"
   },
   "source": [
    "# Bước 1: Tải Thư viện cần thiết"
   ]
  },
  {
   "cell_type": "code",
   "execution_count": 1,
   "metadata": {
    "colab": {
     "base_uri": "https://localhost:8080/"
    },
    "id": "qcjIEX_c0P_z",
    "outputId": "ecc5e105-8792-455f-e46b-55f8710b1e2b"
   },
   "outputs": [
    {
     "name": "stdout",
     "output_type": "stream",
     "text": [
      "^C\n",
      "Requirement already satisfied: tensorflow in c:\\users\\acer\\appdata\\local\\programs\\python\\python310\\lib\\site-packages (2.17.0)\n",
      "Requirement already satisfied: tensorflow-intel==2.17.0 in c:\\users\\acer\\appdata\\local\\programs\\python\\python310\\lib\\site-packages (from tensorflow) (2.17.0)\n",
      "Requirement already satisfied: requests<3,>=2.21.0 in c:\\users\\acer\\appdata\\local\\programs\\python\\python310\\lib\\site-packages (from tensorflow-intel==2.17.0->tensorflow) (2.32.3)\n",
      "Requirement already satisfied: h5py>=3.10.0 in c:\\users\\acer\\appdata\\local\\programs\\python\\python310\\lib\\site-packages (from tensorflow-intel==2.17.0->tensorflow) (3.12.1)\n",
      "Requirement already satisfied: tensorflow-io-gcs-filesystem>=0.23.1 in c:\\users\\acer\\appdata\\local\\programs\\python\\python310\\lib\\site-packages (from tensorflow-intel==2.17.0->tensorflow) (0.31.0)\n",
      "Requirement already satisfied: grpcio<2.0,>=1.24.3 in c:\\users\\acer\\appdata\\local\\programs\\python\\python310\\lib\\site-packages (from tensorflow-intel==2.17.0->tensorflow) (1.67.0)\n",
      "Requirement already satisfied: libclang>=13.0.0 in c:\\users\\acer\\appdata\\local\\programs\\python\\python310\\lib\\site-packages (from tensorflow-intel==2.17.0->tensorflow) (18.1.1)\n",
      "Requirement already satisfied: wrapt>=1.11.0 in c:\\users\\acer\\appdata\\local\\programs\\python\\python310\\lib\\site-packages (from tensorflow-intel==2.17.0->tensorflow) (1.16.0)\n",
      "Requirement already satisfied: absl-py>=1.0.0 in c:\\users\\acer\\appdata\\local\\programs\\python\\python310\\lib\\site-packages (from tensorflow-intel==2.17.0->tensorflow) (2.1.0)\n",
      "Requirement already satisfied: keras>=3.2.0 in c:\\users\\acer\\appdata\\local\\programs\\python\\python310\\lib\\site-packages (from tensorflow-intel==2.17.0->tensorflow) (3.6.0)\n",
      "Requirement already satisfied: protobuf!=4.21.0,!=4.21.1,!=4.21.2,!=4.21.3,!=4.21.4,!=4.21.5,<5.0.0dev,>=3.20.3 in c:\\users\\acer\\appdata\\local\\programs\\python\\python310\\lib\\site-packages (from tensorflow-intel==2.17.0->tensorflow) (4.25.5)\n",
      "Requirement already satisfied: gast!=0.5.0,!=0.5.1,!=0.5.2,>=0.2.1 in c:\\users\\acer\\appdata\\local\\programs\\python\\python310\\lib\\site-packages (from tensorflow-intel==2.17.0->tensorflow) (0.6.0)\n",
      "Requirement already satisfied: packaging in c:\\users\\acer\\appdata\\local\\programs\\python\\python310\\lib\\site-packages (from tensorflow-intel==2.17.0->tensorflow) (23.2)\n",
      "Requirement already satisfied: termcolor>=1.1.0 in c:\\users\\acer\\appdata\\local\\programs\\python\\python310\\lib\\site-packages (from tensorflow-intel==2.17.0->tensorflow) (2.5.0)\n",
      "Requirement already satisfied: google-pasta>=0.1.1 in c:\\users\\acer\\appdata\\local\\programs\\python\\python310\\lib\\site-packages (from tensorflow-intel==2.17.0->tensorflow) (0.2.0)\n",
      "Requirement already satisfied: numpy<2.0.0,>=1.23.5 in c:\\users\\acer\\appdata\\local\\programs\\python\\python310\\lib\\site-packages (from tensorflow-intel==2.17.0->tensorflow) (1.26.1)\n",
      "Requirement already satisfied: flatbuffers>=24.3.25 in c:\\users\\acer\\appdata\\local\\programs\\python\\python310\\lib\\site-packages (from tensorflow-intel==2.17.0->tensorflow) (24.3.25)\n",
      "Requirement already satisfied: ml-dtypes<0.5.0,>=0.3.1 in c:\\users\\acer\\appdata\\local\\programs\\python\\python310\\lib\\site-packages (from tensorflow-intel==2.17.0->tensorflow) (0.4.1)\n",
      "Requirement already satisfied: typing-extensions>=3.6.6 in c:\\users\\acer\\appdata\\local\\programs\\python\\python310\\lib\\site-packages (from tensorflow-intel==2.17.0->tensorflow) (4.12.2)\n",
      "Requirement already satisfied: astunparse>=1.6.0 in c:\\users\\acer\\appdata\\local\\programs\\python\\python310\\lib\\site-packages (from tensorflow-intel==2.17.0->tensorflow) (1.6.3)\n",
      "Requirement already satisfied: tensorboard<2.18,>=2.17 in c:\\users\\acer\\appdata\\local\\programs\\python\\python310\\lib\\site-packages (from tensorflow-intel==2.17.0->tensorflow) (2.17.1)\n",
      "Requirement already satisfied: setuptools in c:\\users\\acer\\appdata\\local\\programs\\python\\python310\\lib\\site-packages (from tensorflow-intel==2.17.0->tensorflow) (58.1.0)\n",
      "Requirement already satisfied: opt-einsum>=2.3.2 in c:\\users\\acer\\appdata\\local\\programs\\python\\python310\\lib\\site-packages (from tensorflow-intel==2.17.0->tensorflow) (3.4.0)\n",
      "Requirement already satisfied: six>=1.12.0 in c:\\users\\acer\\appdata\\local\\programs\\python\\python310\\lib\\site-packages (from tensorflow-intel==2.17.0->tensorflow) (1.16.0)\n",
      "Requirement already satisfied: wheel<1.0,>=0.23.0 in c:\\users\\acer\\appdata\\local\\programs\\python\\python310\\lib\\site-packages (from astunparse>=1.6.0->tensorflow-intel==2.17.0->tensorflow) (0.44.0)\n",
      "Requirement already satisfied: namex in c:\\users\\acer\\appdata\\local\\programs\\python\\python310\\lib\\site-packages (from keras>=3.2.0->tensorflow-intel==2.17.0->tensorflow) (0.0.8)\n",
      "Requirement already satisfied: optree in c:\\users\\acer\\appdata\\local\\programs\\python\\python310\\lib\\site-packages (from keras>=3.2.0->tensorflow-intel==2.17.0->tensorflow) (0.13.0)\n",
      "Requirement already satisfied: rich in c:\\users\\acer\\appdata\\local\\programs\\python\\python310\\lib\\site-packages (from keras>=3.2.0->tensorflow-intel==2.17.0->tensorflow) (13.9.2)\n",
      "Requirement already satisfied: urllib3<3,>=1.21.1 in c:\\users\\acer\\appdata\\local\\programs\\python\\python310\\lib\\site-packages (from requests<3,>=2.21.0->tensorflow-intel==2.17.0->tensorflow) (2.2.3)\n",
      "Requirement already satisfied: idna<4,>=2.5 in c:\\users\\acer\\appdata\\local\\programs\\python\\python310\\lib\\site-packages (from requests<3,>=2.21.0->tensorflow-intel==2.17.0->tensorflow) (3.10)\n",
      "Requirement already satisfied: charset-normalizer<4,>=2 in c:\\users\\acer\\appdata\\local\\programs\\python\\python310\\lib\\site-packages (from requests<3,>=2.21.0->tensorflow-intel==2.17.0->tensorflow) (3.4.0)\n",
      "Requirement already satisfied: certifi>=2017.4.17 in c:\\users\\acer\\appdata\\local\\programs\\python\\python310\\lib\\site-packages (from requests<3,>=2.21.0->tensorflow-intel==2.17.0->tensorflow) (2024.8.30)\n",
      "Requirement already satisfied: werkzeug>=1.0.1 in c:\\users\\acer\\appdata\\local\\programs\\python\\python310\\lib\\site-packages (from tensorboard<2.18,>=2.17->tensorflow-intel==2.17.0->tensorflow) (3.0.4)\n",
      "Requirement already satisfied: tensorboard-data-server<0.8.0,>=0.7.0 in c:\\users\\acer\\appdata\\local\\programs\\python\\python310\\lib\\site-packages (from tensorboard<2.18,>=2.17->tensorflow-intel==2.17.0->tensorflow) (0.7.2)\n",
      "Requirement already satisfied: markdown>=2.6.8 in c:\\users\\acer\\appdata\\local\\programs\\python\\python310\\lib\\site-packages (from tensorboard<2.18,>=2.17->tensorflow-intel==2.17.0->tensorflow) (3.7)\n",
      "Requirement already satisfied: MarkupSafe>=2.1.1 in c:\\users\\acer\\appdata\\local\\programs\\python\\python310\\lib\\site-packages (from werkzeug>=1.0.1->tensorboard<2.18,>=2.17->tensorflow-intel==2.17.0->tensorflow) (3.0.2)\n",
      "Requirement already satisfied: markdown-it-py>=2.2.0 in c:\\users\\acer\\appdata\\local\\programs\\python\\python310\\lib\\site-packages (from rich->keras>=3.2.0->tensorflow-intel==2.17.0->tensorflow) (3.0.0)\n",
      "Requirement already satisfied: pygments<3.0.0,>=2.13.0 in c:\\users\\acer\\appdata\\roaming\\python\\python310\\site-packages (from rich->keras>=3.2.0->tensorflow-intel==2.17.0->tensorflow) (2.17.2)\n",
      "Requirement already satisfied: mdurl~=0.1 in c:\\users\\acer\\appdata\\local\\programs\\python\\python310\\lib\\site-packages (from markdown-it-py>=2.2.0->rich->keras>=3.2.0->tensorflow-intel==2.17.0->tensorflow) (0.1.2)\n"
     ]
    },
    {
     "name": "stderr",
     "output_type": "stream",
     "text": [
      "WARNING: You are using pip version 21.2.4; however, version 25.0.1 is available.\n",
      "You should consider upgrading via the 'C:\\Users\\ACER\\AppData\\Local\\Programs\\Python\\Python310\\python.exe -m pip install --upgrade pip' command.\n"
     ]
    }
   ],
   "source": [
    "!pip install gensim\n",
    "!pip install underthesea\n",
    "!pip install tensorflow_hub\n",
    "!pip install tensorflow"
   ]
  },
  {
   "cell_type": "code",
   "execution_count": null,
   "metadata": {
    "id": "UeRseXp-0Goq"
   },
   "outputs": [],
   "source": [
    "import pandas as pd\n",
    "import numpy as np\n",
    "import re\n",
    "import string\n",
    "import torch\n",
    "import gensim\n",
    "import seaborn as sns\n",
    "import matplotlib.pyplot as plt\n",
    "from underthesea import word_tokenize"
   ]
  },
  {
   "cell_type": "code",
   "execution_count": null,
   "metadata": {
    "id": "rQzEQ-R-6lri"
   },
   "outputs": [],
   "source": [
    "from underthesea import word_tokenize\n",
    "from sklearn.model_selection import train_test_split\n",
    "from sklearn.feature_extraction.text import TfidfVectorizer, CountVectorizer\n",
    "from sklearn.naive_bayes import MultinomialNB\n",
    "from sklearn.linear_model import LogisticRegression\n",
    "from sklearn.tree import DecisionTreeClassifier\n",
    "from sklearn.metrics import accuracy_score, classification_report, confusion_matrix\n",
    "from gensim.models.doc2vec import Doc2Vec, TaggedDocument\n",
    "from tqdm import tqdm\n",
    "import tensorflow_hub as hub\n",
    "import tensorflow as tf\n",
    "\n",
    "import numpy as np\n",
    "import pandas as pd\n",
    "import nltk\n",
    "from nltk.tokenize import word_tokenize\n",
    "from sklearn.feature_extraction.text import TfidfVectorizer, CountVectorizer\n",
    "from sklearn.preprocessing import OneHotEncoder\n",
    "from sklearn.model_selection import train_test_split\n",
    "\n",
    "# nltk.download('punkt')"
   ]
  },
  {
   "cell_type": "markdown",
   "metadata": {
    "id": "8adOramY64Ax"
   },
   "source": [
    "# Bước 2: Tiền xử lý văn bản"
   ]
  },
  {
   "cell_type": "code",
   "execution_count": null,
   "metadata": {
    "id": "3uqoD16izZZd"
   },
   "outputs": [],
   "source": [
    "class TextProcessor:\n",
    "    def __init__(self, df):\n",
    "        self.df = df.copy()\n",
    "        self.clean_text()\n",
    "        self.elmo_model = hub.load(\"https://tfhub.dev/google/elmo/3\")\n",
    "        self.y = self.df[\"label\"].astype(str)\n",
    "\n",
    "    def clean_text(self):\n",
    "        self.df[\"clean_text\"] = self.df[\"text\"].str.lower()\n",
    "        self.df[\"clean_text\"] = self.df[\"clean_text\"].str.replace(r\"[{}]\".format(string.punctuation), \"\", regex=True)\n",
    "        self.df[\"clean_text\"] = self.df[\"clean_text\"].str.replace(r\"\\d+\", \"\", regex=True)\n",
    "        # self.df[\"clean_text\"] = self.df[\"clean_text\"].apply(lambda x: \" \".join(word_tokenize(x)))\n",
    "\n",
    "    def tfidf_vectorizer(self, max_features=100):\n",
    "        vectorizer = TfidfVectorizer(max_features=max_features)\n",
    "        X_tfidf = vectorizer.fit_transform(self.df[\"clean_text\"])\n",
    "        return X_tfidf, self.y\n",
    "\n",
    "    def bag_of_words_vectorizer(self, max_features=100):\n",
    "        vectorizer = CountVectorizer(max_features=max_features)\n",
    "        X_bow = vectorizer.fit_transform(self.df[\"clean_text\"])\n",
    "        return X_bow, self.y\n",
    "\n",
    "    def one_hot_encoding(self):\n",
    "        encoder = OneHotEncoder(sparse_output=False)\n",
    "        one_hot_encoded = encoder.fit_transform(self.df[[\"clean_text\"]])\n",
    "        return one_hot_encoded, self.y\n",
    "\n",
    "    def elmo_embeddings(self):\n",
    "        def elmo_vectors(texts):\n",
    "            return self.elmo_model.signatures[\"default\"](tf.convert_to_tensor(texts))[\"elmo\"]\n",
    "\n",
    "        elmo_embeddings = elmo_vectors(self.df[\"clean_text\"].tolist())\n",
    "        return elmo_embeddings.numpy(), self.y"
   ]
  },
  {
   "cell_type": "code",
   "execution_count": null,
   "metadata": {
    "colab": {
     "base_uri": "https://localhost:8080/"
    },
    "id": "KBY6vyoP2Cgn",
    "outputId": "a57bf9bc-801c-48ea-ecc2-fc7ceb298253"
   },
   "outputs": [],
   "source": [
    "# Đọc dữ liệu từ file CSV\n",
    "df = pd.read_csv(\"generated_soccer_questions.csv\")\n",
    "\n",
    "# Chuyển thành DataFrame\n",
    "# df = pd.DataFrame(corpus, columns=[\"text\", \"label\"])\n",
    "df = df.sample(frac=0.5, random_state=42)  # Lấy 50% dữ liệu\n",
    "df.reset_index(drop=True, inplace=True)\n",
    "\n",
    "# Hiển thị một số dòng của tập dữ liệu\n",
    "print(\"Dữ liệu mẫu:\")\n",
    "print(df.head())"
   ]
  },
  {
   "cell_type": "code",
   "execution_count": null,
   "metadata": {
    "id": "9rjttk8M4sXf"
   },
   "outputs": [],
   "source": [
    "# Tiền xử lý văn bản\n",
    "processor = TextProcessor(df)\n",
    "\n",
    "X_tfidf, y_tfidf = processor.tfidf_vectorizer()\n",
    "X_bow, y_bow = processor.bag_of_words_vectorizer()\n",
    "X_one_hot, y_one_hot = processor.one_hot_encoding()\n",
    "X_elmo, y_elmo = processor.elmo_embeddings()\n",
    "\n",
    "X_train, X_test, y_train, y_test = train_test_split(X_bow, y_bow, test_size=0.3, random_state=42, stratify=y_bow)\n",
    "\n",
    "print(\"TF-IDF Shape:\", X_tfidf.shape)\n",
    "print(\"BoW Shape:\", X_bow.shape)\n",
    "print(\"One-Hot Shape:\", X_one_hot.shape)\n",
    "print(\"ELMo Shape:\", X_elmo.shape)"
   ]
  },
  {
   "cell_type": "markdown",
   "metadata": {
    "id": "OdRO2hFc7ACK"
   },
   "source": [
    "# Bước 3: Vaive Bayes"
   ]
  },
  {
   "cell_type": "code",
   "execution_count": null,
   "metadata": {
    "id": "MlbfoCcp4xow"
   },
   "outputs": [],
   "source": [
    "# Huấn luyện Naive Bayes với Laplace smoothing\n",
    "nb_model = MultinomialNB(alpha=0.1)\n",
    "nb_model.fit(X_train, y_train)\n",
    "y_pred_nb = nb_model.predict(X_test)\n",
    "nb_acc = accuracy_score(y_test, y_pred_nb)\n",
    "print(\"Naive Bayes Accuracy:\", nb_acc)\n",
    "print(classification_report(y_test, y_pred_nb))"
   ]
  },
  {
   "cell_type": "markdown",
   "metadata": {
    "id": "UEpGto7P7F0s"
   },
   "source": [
    "# Bước 4: Logistic Regression"
   ]
  },
  {
   "cell_type": "code",
   "execution_count": null,
   "metadata": {
    "id": "60Ni4rVa40P7"
   },
   "outputs": [],
   "source": [
    "# Huấn luyện Logistic Regression với regularization cao hơn\n",
    "lr_model = LogisticRegression(max_iter=1000, C=0.1)\n",
    "lr_model.fit(X_train, y_train)\n",
    "y_pred_lr = lr_model.predict(X_test)\n",
    "lr_acc = accuracy_score(y_test, y_pred_lr)\n",
    "print(\"Logistic Regression Accuracy:\", lr_acc)\n",
    "print(classification_report(y_test, y_pred_lr))"
   ]
  },
  {
   "cell_type": "markdown",
   "metadata": {
    "id": "2SxmJdAR7LNJ"
   },
   "source": [
    "# Bước 5: Decision Tree"
   ]
  },
  {
   "cell_type": "code",
   "execution_count": null,
   "metadata": {
    "id": "-NJxfHEq45WL"
   },
   "outputs": [],
   "source": [
    "# Huấn luyện Decision Tree với độ phức tạp thấp hơn\n",
    "dt_model = DecisionTreeClassifier(max_depth=5, min_samples_split=20, random_state=42)\n",
    "dt_model.fit(X_train, y_train)\n",
    "y_pred_dt = dt_model.predict(X_test)\n",
    "dt_acc = accuracy_score(y_test, y_pred_dt)\n",
    "print(\"Decision Tree Accuracy:\", dt_acc)\n",
    "print(classification_report(y_test, y_pred_dt))\n"
   ]
  },
  {
   "cell_type": "markdown",
   "metadata": {
    "id": "m_ltDF6B7Q3z"
   },
   "source": [
    "# Bước 6: Doc2Vec"
   ]
  },
  {
   "cell_type": "code",
   "execution_count": null,
   "metadata": {
    "id": "GiraxPdp456A"
   },
   "outputs": [],
   "source": [
    "# Biểu diễn bằng Doc2Vec\n",
    "tagged_data = [TaggedDocument(words=text.split(), tags=[str(i)]) for i, text in enumerate(df[\"clean_text\"])]\n",
    "d2v_model = Doc2Vec(tagged_data, vector_size=100, window=5, min_count=2, workers=4, epochs=30)\n",
    "X_d2v = np.array([d2v_model.infer_vector(text.split()) for text in df[\"clean_text\"]])\n",
    "X_train_d2v, X_test_d2v, y_train_d2v, y_test_d2v = train_test_split(X_d2v, y_bow, test_size=0.3, random_state=42, stratify=y_bow)"
   ]
  },
  {
   "cell_type": "code",
   "execution_count": null,
   "metadata": {
    "id": "nUAcaKBV485m"
   },
   "outputs": [],
   "source": [
    "# Huấn luyện với Doc2Vec\n",
    "lr_d2v = LogisticRegression(max_iter=1000, C=0.5)\n",
    "lr_d2v.fit(X_train_d2v, y_train_d2v)\n",
    "y_pred_d2v = lr_d2v.predict(X_test_d2v)\n",
    "d2v_acc = accuracy_score(y_test_d2v, y_pred_d2v)\n",
    "print(\"Logistic Regression (Doc2Vec) Accuracy:\", d2v_acc)\n",
    "print(classification_report(y_test_d2v, y_pred_d2v))"
   ]
  },
  {
   "cell_type": "markdown",
   "metadata": {
    "id": "8J4myfd-7UPm"
   },
   "source": [
    "# Bước 7: So sánh"
   ]
  },
  {
   "cell_type": "code",
   "execution_count": null,
   "metadata": {
    "id": "k5KCFTfH5Cu9"
   },
   "outputs": [],
   "source": [
    "# So sánh mô hình\n",
    "models = [\"Naive Bayes\", \"Logistic Regression\", \"Decision Tree\", \"Logistic Regression (Doc2Vec)\"]\n",
    "accuracies = [nb_acc, lr_acc, dt_acc, d2v_acc]\n",
    "\n",
    "plt.figure(figsize=(8,5))\n",
    "sns.barplot(x=models, y=accuracies, palette=\"coolwarm\")\n",
    "plt.ylim(0, 1)\n",
    "plt.ylabel(\"Accuracy\")\n",
    "plt.xlabel(\"Model\")\n",
    "plt.title(\"So sánh độ chính xác của các mô hình\")\n",
    "plt.xticks(rotation=15)\n",
    "plt.show()"
   ]
  }
 ],
 "metadata": {
  "colab": {
   "provenance": []
  },
  "kernelspec": {
   "display_name": "Python 3",
   "name": "python3"
  },
  "language_info": {
   "codemirror_mode": {
    "name": "ipython",
    "version": 3
   },
   "file_extension": ".py",
   "mimetype": "text/x-python",
   "name": "python",
   "nbconvert_exporter": "python",
   "pygments_lexer": "ipython3",
   "version": "3.10.1"
  }
 },
 "nbformat": 4,
 "nbformat_minor": 0
}
